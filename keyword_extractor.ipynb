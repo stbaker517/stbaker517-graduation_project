{
 "cells": [
  {
   "cell_type": "code",
   "execution_count": 1,
   "id": "cca49610",
   "metadata": {},
   "outputs": [],
   "source": [
    "from keybert import KeyBERT\n",
    "from transformers import BertModel\n",
    "from konlpy.tag import Kkma\n",
    "from konlpy.tag import Okt\n",
    "from kiwipiepy import Kiwi\n",
    "from collections import Counter"
   ]
  },
  {
   "cell_type": "code",
   "execution_count": 2,
   "id": "fad385db",
   "metadata": {},
   "outputs": [],
   "source": [
    "model = BertModel.from_pretrained('skt/kobert-base-v1')\n",
    "kw_model = KeyBERT(model)"
   ]
  },
  {
   "cell_type": "code",
   "execution_count": 3,
   "id": "2fbd9e94",
   "metadata": {},
   "outputs": [],
   "source": [
    "class KewordExtractor:\n",
    "    def __init__(self):\n",
    "        self.kiwi = Kiwi()\n",
    "        self.okt = Okt()\n",
    "        self.kkma = Kkma()\n",
    "        \n",
    "        self.df = None\n",
    "        self.nouns = []\n",
    "        \n",
    "    def setDataFrame(self, dataFrame):\n",
    "        self.df = dataFrame\n",
    "        \n",
    "    def normText(self, text):\n",
    "        return self.okt.normalize(text)\n",
    "    \n",
    "    def getNouns(self, textLine):\n",
    "        #라인 하나씩 받아서 NOUNS 리턴\n",
    "        #kiwi NNP\n",
    "        text = self.normText(textLine)\n",
    "        \n",
    "        nouns = []\n",
    "        nouns = nouns + self.kiwiMorph(text)\n",
    "        nouns = nouns + self.oktMorph(text)\n",
    "        nouns = nouns + self.kkmaMorph(text)\n",
    "        \n",
    "        result = []\n",
    "        counter = Counter(nouns)\n",
    "        for k, v in dict(counter).items():\n",
    "            if v>2 :\n",
    "                result.append(k)\n",
    "                \n",
    "        return result\n",
    "        \n",
    "        \n",
    "        \n",
    "        \n",
    "    def kkmaMorph(self, input_data) : #형태소 분석\n",
    "        preprocessed = self.kkma.pos(input_data)\n",
    "        ret = []\n",
    "        for data in preprocessed:\n",
    "            if(data[1]==\"NNG\"):\n",
    "                ret.append(data[0])\n",
    "        return ret\n",
    "    def oktMorph(self, input_data):\n",
    "        return self.okt.nouns(input_data)\n",
    "    \n",
    "    def kiwiMorph(self, input_data):\n",
    "        results = []\n",
    "        result = self.kiwi.analyze(input_data)\n",
    "        for token, pos, _, _ in result[0][0]:\n",
    "            if len(token) != 1 and pos=='NNG':\n",
    "                results.append(token)\n",
    "        return results"
   ]
  }
 ],
 "metadata": {
  "kernelspec": {
   "display_name": "Python 3 (ipykernel)",
   "language": "python",
   "name": "python3"
  },
  "language_info": {
   "codemirror_mode": {
    "name": "ipython",
    "version": 3
   },
   "file_extension": ".py",
   "mimetype": "text/x-python",
   "name": "python",
   "nbconvert_exporter": "python",
   "pygments_lexer": "ipython3",
   "version": "3.8.10"
  }
 },
 "nbformat": 4,
 "nbformat_minor": 5
}
